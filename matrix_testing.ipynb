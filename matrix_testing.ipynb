{
 "cells": [
  {
   "cell_type": "code",
   "execution_count": 3,
   "id": "076c8b3e",
   "metadata": {},
   "outputs": [],
   "source": [
    "#matrix tests for rastering\n",
    "#test matricies\n",
    "test = zeros(Float64, 3, 3) #3x3 matrix of zeros\n",
    "\n",
    "test2 = [1.1 1.2 1.3 1.4 1.5 1.6 1.7 1.8 1.9] #1x9 matrix\n",
    "test3 = [1 2 3 6 5 4 7 8 9] #1x9 matrix for zig zag. length(test3) must = length(test2)\n",
    "\n",
    "# want to zig zag values. so test will be, at the end of this, \n",
    "#   1.1 1.2 1.3\n",
    "#   1.6 1.5 1.4\n",
    "#   1.7 1.8 1.9\n",
    "n = 1; \n",
    "r = 1; #for general zig zag test"
   ]
  },
  {
   "cell_type": "code",
   "execution_count": 3,
   "id": "8e48508b",
   "metadata": {},
   "outputs": [
    {
     "name": "stdout",
     "output_type": "stream",
     "text": [
      "[1.1 1.2 1.3; 1.4 1.5 1.6; 1.7 1.8 1.9]"
     ]
    }
   ],
   "source": [
    "#non zig zag\n",
    "for i in 1:3, j in 1:3\n",
    "    if n <= length(test2)\n",
    "        test[i,j] += test2[n]\n",
    "        n += 1\n",
    "    end\n",
    "end\n",
    "println(test) # print test to stout hopefully"
   ]
  },
  {
   "cell_type": "code",
   "execution_count": 4,
   "id": "d1e03637",
   "metadata": {},
   "outputs": [
    {
     "name": "stdout",
     "output_type": "stream",
     "text": [
      "[1.1 1.2 1.3; 1.6 1.5 1.4; 1.7 1.8 1.9]\n"
     ]
    }
   ],
   "source": [
    "#zig zag\n",
    "for i in 1:3, j in 1:3\n",
    "    if n <= length(test3)\n",
    "        test[i,j] += test2[test3[n]]\n",
    "        n += 1\n",
    "    end\n",
    "end\n",
    "println(test)"
   ]
  },
  {
   "attachments": {},
   "cell_type": "markdown",
   "id": "142363b6",
   "metadata": {},
   "source": [
    "below is an attempt at implementing the above without using the test3 array. not working yet, but I think I need to make it so that incrementing or decrimenting n is controlled by a flag? "
   ]
  },
  {
   "cell_type": "code",
   "execution_count": 6,
   "id": "d8841789",
   "metadata": {},
   "outputs": [
    {
     "name": "stdout",
     "output_type": "stream",
     "text": [
      "[1.1 0.0 0.0; 0.0 0.0 0.0; 0.0 0.0 0.0]\n"
     ]
    }
   ],
   "source": [
    "#general zig zag \n",
    "#note to self: might have to create flags for going up and down...\n",
    "for i in 1:3, j in 1:3\n",
    "    if n == 3 #or, if downFlag is set\n",
    "        for k in 1:3, l in 3:1\n",
    "            test[k,l] += test2[n]\n",
    "            n -= 1 #decriment n\n",
    "        end\n",
    "    elseif n == 1 ##or, if upFlag is set\n",
    "        for m in 1:3, o in 1:3\n",
    "            test[m,o] += test2[n]\n",
    "            n += 1 #increment n\n",
    "        end\n",
    "    end\n",
    "end\n",
    "println(test)"
   ]
  }
 ],
 "metadata": {
  "kernelspec": {
   "display_name": "Julia 1.8.2",
   "language": "julia",
   "name": "julia-1.8"
  },
  "language_info": {
   "file_extension": ".jl",
   "mimetype": "application/julia",
   "name": "julia",
   "version": "1.8.2"
  }
 },
 "nbformat": 4,
 "nbformat_minor": 5
}
