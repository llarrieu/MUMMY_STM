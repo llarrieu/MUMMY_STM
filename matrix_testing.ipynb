{
 "cells": [
  {
   "cell_type": "code",
   "execution_count": 17,
   "id": "076c8b3e",
   "metadata": {},
   "outputs": [],
   "source": [
    "#matrix tests for rastering\n",
    "#test matricies\n",
    "test = zeros(Float64, 3, 3) #3x3 matrix of zeros\n",
    "\n",
    "test2 = [1.1 1.2 1.3 1.4 1.5 1.6 1.7 1.8 1.9] #1x9 matrix\n",
    "test3 = [1 2 3 6 5 4 7 8 9] #1x9 matrix for zig zag. length(test3) must = length(test2)\n",
    "\n",
    "# want to zig zag values. so test will be, at the end of this, \n",
    "#   1.1 1.2 1.3\n",
    "#   1.6 1.5 1.4\n",
    "#   1.7 1.8 1.9\n",
    "n = 1; \n"
   ]
  },
  {
   "cell_type": "code",
   "execution_count": 8,
   "id": "8e48508b",
   "metadata": {},
   "outputs": [
    {
     "name": "stdout",
     "output_type": "stream",
     "text": [
      "[1.1 1.2 1.3; 1.4 1.5 1.6; 1.7 1.8 1.9]\n"
     ]
    }
   ],
   "source": [
    "#non zig zag\n",
    "for i in 1:3, j in 1:3\n",
    "    if n <= length(test2)\n",
    "        test[i,j] += test2[n]\n",
    "        n += 1\n",
    "    end\n",
    "end\n",
    "println(test) # print test to stout hopefully"
   ]
  },
  {
   "cell_type": "code",
   "execution_count": 18,
   "id": "d1e03637",
   "metadata": {},
   "outputs": [
    {
     "name": "stdout",
     "output_type": "stream",
     "text": [
      "[1.1 1.2 1.3; 1.6 1.5 1.4; 1.7 1.8 1.9]\n"
     ]
    }
   ],
   "source": [
    "#zig zag\n",
    "for i in 1:3, j in 1:3\n",
    "    if n <= length(test3)\n",
    "        test[i,j] += test2[test3[n]]\n",
    "        n += 1\n",
    "    end\n",
    "end\n",
    "println(test)"
   ]
  },
  {
   "attachments": {},
   "cell_type": "markdown",
   "id": "142363b6",
   "metadata": {},
   "source": [
    "below is an attempt at implementing the above without using the test3 array. not working yet, but I think I need to make it so that incrementing or decrimenting n is controlled by a flag? "
   ]
  },
  {
   "cell_type": "code",
   "execution_count": 15,
   "id": "d8841789",
   "metadata": {},
   "outputs": [
    {
     "name": "stdout",
     "output_type": "stream",
     "text": [
      "[11.1 12.2 13.3; 14.4 15.5 16.6; 17.7 18.8 19.9]\n"
     ]
    }
   ],
   "source": [
    "#general zig zag \n",
    "#note to self: might have to create flags for going up and down...\n",
    "for i in 1:3, j in 1:3\n",
    "    if n == 3 #or, if downFlag is set\n",
    "        for k in 1:3, l in 3:-1:1\n",
    "            test[k,l] += test2[n]\n",
    "            n -= 1 #decriment n\n",
    "        end\n",
    "    elseif n == 1 ##or, if upFlag is set\n",
    "        for m in 1:3, o in 1:3\n",
    "            test[m,o] += test2[n]\n",
    "            n += 1 #increment n\n",
    "        end\n",
    "    end\n",
    "end\n",
    "println(test)"
   ]
  },
  {
   "cell_type": "code",
   "execution_count": 14,
   "id": "fcae02a2",
   "metadata": {},
   "outputs": [
    {
     "name": "stdout",
     "output_type": "stream",
     "text": [
      "[3.0 2.0 1.0; 6.0 5.0 4.0; 9.0 8.0 7.0]\n"
     ]
    }
   ],
   "source": [
    "#backwards non zig-zag x-y movement test\n",
    "test4 = zeros(Float64, 3, 3)\n",
    "n = 1\n",
    "r = 1\n",
    "dFlag = 0 #flag that triggers reverse motion of the piezo if set. will this require a while loop?\n",
    "\n",
    "for i in 1:3, j in 1:1:3, k in 3:-1:1#k makes it count down in each row!\n",
    "    if dFlag == 1\n",
    "        #move back and decriment n\n",
    "        test4[i,k] += n\n",
    "        n += 1\n",
    "        r -= 1 \n",
    "end\n",
    "println(test4)"
   ]
  }
 ],
 "metadata": {
  "kernelspec": {
   "display_name": "Julia 1.8.2",
   "language": "julia",
   "name": "julia-1.8"
  },
  "language_info": {
   "file_extension": ".jl",
   "mimetype": "application/julia",
   "name": "julia",
   "version": "1.8.2"
  }
 },
 "nbformat": 4,
 "nbformat_minor": 5
}
